{
 "cells": [
  {
   "cell_type": "code",
   "execution_count": 1,
   "metadata": {},
   "outputs": [
    {
     "ename": "",
     "evalue": "",
     "output_type": "error",
     "traceback": [
      "\u001b[1;31mCanceled future for execute_request message before replies were done"
     ]
    },
    {
     "ename": "",
     "evalue": "",
     "output_type": "error",
     "traceback": [
      "\u001b[1;31mEl Kernel se bloqueó al ejecutar código en la celda actual o en una celda anterior. Revise el código de las celdas para identificar una posible causa del error. Haga clic <a href='https://aka.ms/vscodeJupyterKernelCrash'>aquí</a> para obtener más información. Vea el [registro] de Jupyter (command:jupyter.viewOutput) para obtener más detalles."
     ]
    }
   ],
   "source": [
    "'Programa para resolver la urna de Bernoulli'\n",
    "\n",
    "\n",
    "import numpy as np\n",
    "import math \n",
    "import matplotlib.pyplot as plt\n",
    "from scipy.integrate import odeint\n",
    "import numdifftools as nd \n",
    "\n",
    "n=10 #numero de pelotas en una urna#\n",
    "\n",
    "def G(r): #r= numero de pasos\n",
    "    l1=0\n",
    "    l2= []\n",
    "    G=lambda z: z**n\n",
    "    while l1<r:\n",
    "        G= lambda z: G(z) + (z-1)*(G(z))\n",
    "        print(G(1))\n",
    "        l2.append(G)\n",
    "        l1= l1+1\n",
    "    return l2\n",
    "\n",
    "\n",
    "print(G(3))"
   ]
  }
 ],
 "metadata": {
  "kernelspec": {
   "display_name": "Python 3.8.13 ('base')",
   "language": "python",
   "name": "python3"
  },
  "language_info": {
   "codemirror_mode": {
    "name": "ipython",
    "version": 3
   },
   "file_extension": ".py",
   "mimetype": "text/x-python",
   "name": "python",
   "nbconvert_exporter": "python",
   "pygments_lexer": "ipython3",
   "version": "3.8.13"
  },
  "orig_nbformat": 4,
  "vscode": {
   "interpreter": {
    "hash": "cb2193a2f6290ddba141d0f863bddcc06ba7d408f410bac8752cd38883fc949b"
   }
  }
 },
 "nbformat": 4,
 "nbformat_minor": 2
}
